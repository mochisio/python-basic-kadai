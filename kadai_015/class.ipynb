{
  "nbformat": 4,
  "nbformat_minor": 0,
  "metadata": {
    "colab": {
      "provenance": []
    },
    "kernelspec": {
      "name": "python3",
      "display_name": "Python 3"
    },
    "language_info": {
      "name": "python"
    }
  },
  "cells": [
    {
      "cell_type": "code",
      "execution_count": 3,
      "metadata": {
        "colab": {
          "base_uri": "https://localhost:8080/"
        },
        "id": "Qpq-le49CDUr",
        "outputId": "2950e5e8-ceb5-4cf8-8aa9-4d4ec2754658"
      },
      "outputs": [
        {
          "output_type": "stream",
          "name": "stdout",
          "text": [
            "kevin 24\n"
          ]
        }
      ],
      "source": [
        "class Human:\n",
        "  def __init__(self,name,age):\n",
        "    self.name=name\n",
        "    self.age=age\n",
        "  def printinfo(self):\n",
        "    print(self.name,self.age)\n",
        "\n",
        "#インスタンス化\n",
        "human=Human(\"kevin\",24)\n",
        "\n",
        "\n",
        "human.printinfo()\n"
      ]
    }
  ]
}