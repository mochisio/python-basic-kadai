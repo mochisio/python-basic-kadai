{
  "nbformat": 4,
  "nbformat_minor": 0,
  "metadata": {
    "colab": {
      "provenance": []
    },
    "kernelspec": {
      "name": "python3",
      "display_name": "Python 3"
    },
    "language_info": {
      "name": "python"
    }
  },
  "cells": [
    {
      "cell_type": "code",
      "execution_count": 11,
      "metadata": {
        "colab": {
          "base_uri": "https://localhost:8080/"
        },
        "id": "Qpq-le49CDUr",
        "outputId": "eb8e653b-9561-493a-e1c5-0e6686f2a4e1"
      },
      "outputs": [
        {
          "output_type": "stream",
          "name": "stdout",
          "text": [
            "kevin 24\n"
          ]
        }
      ],
      "source": [
        "class Human:\n",
        "  def __init__(self,name,age):\n",
        "    self.name=name\n",
        "    self.age=age\n",
        "  def printinfo(name,age):\n",
        "    print(name,age)\n",
        "\n",
        "human=Human(\"kevin\",24)\n",
        "\n",
        "\n",
        "printinfo(human.name,human.age)\n"
      ]
    }
  ]
}