{
  "nbformat": 4,
  "nbformat_minor": 0,
  "metadata": {
    "colab": {
      "provenance": []
    },
    "kernelspec": {
      "name": "python3",
      "display_name": "Python 3"
    },
    "language_info": {
      "name": "python"
    }
  },
  "cells": [
    {
      "cell_type": "code",
      "execution_count": 4,
      "metadata": {
        "colab": {
          "base_uri": "https://localhost:8080/"
        },
        "id": "cYdzM6QXgpd5",
        "outputId": "23f9a6a7-f0f0-4281-bc9c-af8c37f05cda"
      },
      "outputs": [
        {
          "output_type": "stream",
          "name": "stdout",
          "text": [
            "Fizz\n",
            "Buzz\n",
            "FizzBuzz\n"
          ]
        }
      ],
      "source": [
        "var =15\n",
        "\n",
        "if var%3==0:\n",
        "  print(\"Fizz\")\n",
        "if var%5==0:\n",
        "  print(\"Buzz\")\n",
        "if var%3==0 and var%5==0:\n",
        "  print(\"FizzBuzz\")\n",
        "else:\n",
        "  print(var)"
      ]
    }
  ]
}