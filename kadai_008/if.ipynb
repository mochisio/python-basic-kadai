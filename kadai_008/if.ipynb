{
  "nbformat": 4,
  "nbformat_minor": 0,
  "metadata": {
    "colab": {
      "provenance": []
    },
    "kernelspec": {
      "name": "python3",
      "display_name": "Python 3"
    },
    "language_info": {
      "name": "python"
    }
  },
  "cells": [
    {
      "cell_type": "code",
      "execution_count": 9,
      "metadata": {
        "colab": {
          "base_uri": "https://localhost:8080/"
        },
        "id": "cYdzM6QXgpd5",
        "outputId": "8c3ddd92-6622-4754-9f7d-556c4e8f0875"
      },
      "outputs": [
        {
          "output_type": "stream",
          "name": "stdout",
          "text": [
            "8\n"
          ]
        }
      ],
      "source": [
        "var =8\n",
        "\n",
        "\n",
        "if var%3==0 and var%5==0:\n",
        "  print(\"FizzBuzz\")\n",
        "if var%3==0 and var%5!=0:\n",
        "  print(\"Fizz\")\n",
        "if var%5==0 and var%3!=0:\n",
        "  print(\"Buzz\")\n",
        "if var%5!=0 and var%3!=0:\n",
        "  print(var)"
      ]
    }
  ]
}