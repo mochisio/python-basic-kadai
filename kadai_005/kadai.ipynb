{
  "nbformat": 4,
  "nbformat_minor": 0,
  "metadata": {
    "colab": {
      "provenance": []
    },
    "kernelspec": {
      "name": "python3",
      "display_name": "Python 3"
    },
    "language_info": {
      "name": "python"
    }
  },
  "cells": [
    {
      "cell_type": "code",
      "execution_count": 1,
      "metadata": {
        "colab": {
          "base_uri": "https://localhost:8080/"
        },
        "id": "PSVYf_LsHDx3",
        "outputId": "dda42369-cf28-483d-c5f2-4df36d6a0b16"
      },
      "outputs": [
        {
          "output_type": "stream",
          "name": "stdout",
          "text": [
            "75.0㎠\n"
          ]
        }
      ],
      "source": [
        "jouhenn=10\n",
        "kahen=20\n",
        "takasa=5\n",
        "daikei=(jouhenn+kahen)*takasa/2\n",
        "\n",
        "print(f\"{daikei}㎠\")"
      ]
    }
  ]
}