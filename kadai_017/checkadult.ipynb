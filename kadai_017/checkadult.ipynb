{
  "nbformat": 4,
  "nbformat_minor": 0,
  "metadata": {
    "colab": {
      "provenance": []
    },
    "kernelspec": {
      "name": "python3",
      "display_name": "Python 3"
    },
    "language_info": {
      "name": "python"
    }
  },
  "cells": [
    {
      "cell_type": "code",
      "execution_count": 14,
      "metadata": {
        "colab": {
          "base_uri": "https://localhost:8080/"
        },
        "id": "AvKz4y7xKson",
        "outputId": "ce2cd99b-5202-4301-889c-069493d0fad8"
      },
      "outputs": [
        {
          "output_type": "stream",
          "name": "stdout",
          "text": [
            "kevinは大人である\n",
            "Jack大人でない\n",
            "Simonは大人である\n"
          ]
        }
      ],
      "source": [
        "class Human:\n",
        "  def __init__(self,name,age):\n",
        "    self.name=name\n",
        "    self.age=age\n",
        "  def check_adult(self):\n",
        "    if self.age>=20:\n",
        "      print(f\"{self.name}は大人である\")\n",
        "    else:\n",
        "      print(f\"{self.name}大人でない\")\n",
        "\n",
        "human1=Human(\"kevin\",24)\n",
        "human2=Human(\"Jack\",6)\n",
        "human3=Human(\"Simon\",45)\n",
        "\n",
        "humans=[human1,human2,human3]\n",
        "\n",
        "\n",
        "for human in humans:\n",
        "  human.check_adult()\n"
      ]
    }
  ]
}