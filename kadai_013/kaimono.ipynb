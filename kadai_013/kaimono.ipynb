{
  "nbformat": 4,
  "nbformat_minor": 0,
  "metadata": {
    "colab": {
      "provenance": []
    },
    "kernelspec": {
      "name": "python3",
      "display_name": "Python 3"
    },
    "language_info": {
      "name": "python"
    }
  },
  "cells": [
    {
      "cell_type": "code",
      "execution_count": 3,
      "metadata": {
        "colab": {
          "base_uri": "https://localhost:8080/"
        },
        "id": "arItnc-m6tZL",
        "outputId": "b4baaf47-6cb7-4180-ca59-75d504faf4bb"
      },
      "outputs": [
        {
          "output_type": "stream",
          "name": "stdout",
          "text": [
            "770.0000000000001\n"
          ]
        }
      ],
      "source": [
        "#値段及び消費税の定義用の初期値\n",
        "price=0\n",
        "tax=0\n",
        "\n",
        "def tax_include(price,tax):\n",
        "  amount=price*(1 + tax/100)\n",
        "  print(amount)\n",
        "\n",
        "tax_include(700,10)\n"
      ]
    }
  ]
}